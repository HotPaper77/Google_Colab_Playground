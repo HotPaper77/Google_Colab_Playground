{
  "nbformat": 4,
  "nbformat_minor": 0,
  "metadata": {
    "colab": {
      "name": "Learning_Python_Strings",
      "provenance": [],
      "authorship_tag": "ABX9TyMwwl+57A2dvqp9Oy+5XTqH",
      "include_colab_link": true
    },
    "kernelspec": {
      "name": "python3",
      "display_name": "Python 3"
    },
    "language_info": {
      "name": "python"
    }
  },
  "cells": [
    {
      "cell_type": "markdown",
      "metadata": {
        "id": "view-in-github",
        "colab_type": "text"
      },
      "source": [
        "<a href=\"https://colab.research.google.com/github/HotPaper77/Google_Colab_Playground/blob/main/Learning_Python_Strings.ipynb\" target=\"_parent\"><img src=\"https://colab.research.google.com/assets/colab-badge.svg\" alt=\"Open In Colab\"/></a>"
      ]
    },
    {
      "cell_type": "markdown",
      "source": [
        "## Common String methods"
      ],
      "metadata": {
        "id": "UZED3t_FyDKg"
      }
    },
    {
      "cell_type": "code",
      "source": [
        ""
      ],
      "metadata": {
        "id": "jNdIFlwVyHIG"
      },
      "execution_count": null,
      "outputs": []
    },
    {
      "cell_type": "code",
      "source": [
        ""
      ],
      "metadata": {
        "id": "4IB6adWfyKS8"
      },
      "execution_count": null,
      "outputs": []
    },
    {
      "cell_type": "code",
      "source": [
        ""
      ],
      "metadata": {
        "id": "3nWIRPKHyKVy"
      },
      "execution_count": null,
      "outputs": []
    },
    {
      "cell_type": "code",
      "source": [
        ""
      ],
      "metadata": {
        "id": "UwoeacbUyKYV"
      },
      "execution_count": null,
      "outputs": []
    },
    {
      "cell_type": "markdown",
      "source": [
        "## String encoding and decoding"
      ],
      "metadata": {
        "id": "EI-_rEmQx_1Z"
      }
    },
    {
      "cell_type": "code",
      "source": [
        ""
      ],
      "metadata": {
        "id": "uQEZ53I4x9ad"
      },
      "execution_count": null,
      "outputs": []
    },
    {
      "cell_type": "code",
      "source": [
        ""
      ],
      "metadata": {
        "id": "71EmigQKyJFC"
      },
      "execution_count": null,
      "outputs": []
    },
    {
      "cell_type": "code",
      "source": [
        ""
      ],
      "metadata": {
        "id": "3L7PunscyJPb"
      },
      "execution_count": null,
      "outputs": []
    },
    {
      "cell_type": "code",
      "source": [
        ""
      ],
      "metadata": {
        "id": "cuTPZBFLyJTA"
      },
      "execution_count": null,
      "outputs": []
    },
    {
      "cell_type": "markdown",
      "source": [
        "##String Formating"
      ],
      "metadata": {
        "id": "B18bRK_2xNuP"
      }
    },
    {
      "cell_type": "markdown",
      "source": [
        "### Old formating: % Operator"
      ],
      "metadata": {
        "id": "i_adRNHrxTRi"
      }
    },
    {
      "cell_type": "code",
      "execution_count": 9,
      "metadata": {
        "colab": {
          "base_uri": "https://localhost:8080/",
          "height": 35
        },
        "id": "d3eo2uN7wSlH",
        "outputId": "21596958-8bec-4f35-b788-f1b76d5c905f"
      },
      "outputs": [
        {
          "output_type": "execute_result",
          "data": {
            "text/plain": [
              "'Hello this is a old formating !'"
            ],
            "application/vnd.google.colaboratory.intrinsic+json": {
              "type": "string"
            }
          },
          "metadata": {},
          "execution_count": 9
        }
      ],
      "source": [
        "'Hello this is a %s formating !'%'old'"
      ]
    },
    {
      "cell_type": "code",
      "source": [
        "adjective = 'old'\n",
        "'Hello this is a %s formating !'%adjective"
      ],
      "metadata": {
        "colab": {
          "base_uri": "https://localhost:8080/",
          "height": 35
        },
        "id": "xtrLbMCyyLTx",
        "outputId": "c01df8fb-be1e-4916-cb08-5d5b12c3a2b7"
      },
      "execution_count": 11,
      "outputs": [
        {
          "output_type": "execute_result",
          "data": {
            "text/plain": [
              "'Hello this is a old formating !'"
            ],
            "application/vnd.google.colaboratory.intrinsic+json": {
              "type": "string"
            }
          },
          "metadata": {},
          "execution_count": 11
        }
      ]
    },
    {
      "cell_type": "code",
      "source": [
        "'Hello this is a %s %s formating !'%('very','old')"
      ],
      "metadata": {
        "colab": {
          "base_uri": "https://localhost:8080/",
          "height": 35
        },
        "id": "CbUtcwatyLWk",
        "outputId": "ab76c743-2977-4ce3-93a3-4b7a52fa1336"
      },
      "execution_count": 17,
      "outputs": [
        {
          "output_type": "execute_result",
          "data": {
            "text/plain": [
              "'Hello this is a very old formating !'"
            ],
            "application/vnd.google.colaboratory.intrinsic+json": {
              "type": "string"
            }
          },
          "metadata": {},
          "execution_count": 17
        }
      ]
    },
    {
      "cell_type": "markdown",
      "source": [
        "### New formating: .format method"
      ],
      "metadata": {
        "id": "g3nrv-scxeal"
      }
    },
    {
      "cell_type": "code",
      "source": [
        "'{} is in the {} '.format('Brian','kitchen')"
      ],
      "metadata": {
        "colab": {
          "base_uri": "https://localhost:8080/",
          "height": 35
        },
        "id": "Wq505TCmxlO1",
        "outputId": "b741661c-44dd-476e-ca24-30bc4e37e5db"
      },
      "execution_count": 19,
      "outputs": [
        {
          "output_type": "execute_result",
          "data": {
            "text/plain": [
              "'Brian is in the kitchen '"
            ],
            "application/vnd.google.colaboratory.intrinsic+json": {
              "type": "string"
            }
          },
          "metadata": {},
          "execution_count": 19
        }
      ]
    },
    {
      "cell_type": "code",
      "source": [
        "'{name} is in the {place} '.format(place='kitchen', name='Brian')"
      ],
      "metadata": {
        "colab": {
          "base_uri": "https://localhost:8080/",
          "height": 35
        },
        "id": "IsdBYFOByL6N",
        "outputId": "fa616cf1-a669-4486-de4c-6a70511a9b82"
      },
      "execution_count": 22,
      "outputs": [
        {
          "output_type": "execute_result",
          "data": {
            "text/plain": [
              "'Brian is in the kitchen '"
            ],
            "application/vnd.google.colaboratory.intrinsic+json": {
              "type": "string"
            }
          },
          "metadata": {},
          "execution_count": 22
        }
      ]
    },
    {
      "cell_type": "markdown",
      "source": [
        "### String interpolation: f strings"
      ],
      "metadata": {
        "id": "VTYtWSPjxmAq"
      }
    },
    {
      "cell_type": "code",
      "source": [
        "name,place = 'Brian','Kitchen'\n",
        "f'{name.upper()} is in the {place}'"
      ],
      "metadata": {
        "colab": {
          "base_uri": "https://localhost:8080/",
          "height": 35
        },
        "id": "u3Wrxa0fxzAl",
        "outputId": "ae963eb8-b69b-4a84-f7ec-6208aae4cdf9"
      },
      "execution_count": 24,
      "outputs": [
        {
          "output_type": "execute_result",
          "data": {
            "text/plain": [
              "'BRIAN is in the Kitchen'"
            ],
            "application/vnd.google.colaboratory.intrinsic+json": {
              "type": "string"
            }
          },
          "metadata": {},
          "execution_count": 24
        }
      ]
    },
    {
      "cell_type": "markdown",
      "source": [
        "###String Template"
      ],
      "metadata": {
        "id": "OjCFdoHTxq5r"
      }
    },
    {
      "cell_type": "code",
      "source": [
        "import string\n",
        "new_Template = string.Template('$name is in the $place ')\n",
        "new_Template.substitute(name='Brian',place='kitchen')"
      ],
      "metadata": {
        "colab": {
          "base_uri": "https://localhost:8080/",
          "height": 35
        },
        "id": "j91Lb9NGxx0T",
        "outputId": "a49c4bef-15ae-4265-c04f-bf1b0882dd14"
      },
      "execution_count": 26,
      "outputs": [
        {
          "output_type": "execute_result",
          "data": {
            "text/plain": [
              "'Brian is in the kitchen '"
            ],
            "application/vnd.google.colaboratory.intrinsic+json": {
              "type": "string"
            }
          },
          "metadata": {},
          "execution_count": 26
        }
      ]
    }
  ]
}