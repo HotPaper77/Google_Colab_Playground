{
  "nbformat": 4,
  "nbformat_minor": 0,
  "metadata": {
    "colab": {
      "name": "Learning_Faker.ipynb",
      "provenance": [],
      "authorship_tag": "ABX9TyNIpFMrPFBmR3hLjlrgEunH",
      "include_colab_link": true
    },
    "kernelspec": {
      "name": "python3",
      "display_name": "Python 3"
    },
    "language_info": {
      "name": "python"
    }
  },
  "cells": [
    {
      "cell_type": "markdown",
      "metadata": {
        "id": "view-in-github",
        "colab_type": "text"
      },
      "source": [
        "<a href=\"https://colab.research.google.com/github/HotPaper77/Google_Colab_Playground/blob/main/Learning_Faker.ipynb\" target=\"_parent\"><img src=\"https://colab.research.google.com/assets/colab-badge.svg\" alt=\"Open In Colab\"/></a>"
      ]
    },
    {
      "cell_type": "markdown",
      "source": [
        "# Introduction to Faker Pyhton Package"
      ],
      "metadata": {
        "id": "oePL4r1eWoPR"
      }
    },
    {
      "cell_type": "markdown",
      "source": [
        "# What is Faker ?\n",
        "Faker is a package that allows the user to generate fake data.\n",
        "It is very useful to bootstrap fake databases or documents.\n"
      ],
      "metadata": {
        "id": "Uo_iEjxyWh_o"
      }
    },
    {
      "cell_type": "code",
      "execution_count": 1,
      "metadata": {
        "colab": {
          "base_uri": "https://localhost:8080/"
        },
        "id": "HR7MJ4IzWMuY",
        "outputId": "67d8f24c-5d04-4b31-e4e9-6186138325eb"
      },
      "outputs": [
        {
          "output_type": "stream",
          "name": "stdout",
          "text": [
            "Collecting Faker\n",
            "  Downloading Faker-13.11.1-py3-none-any.whl (1.5 MB)\n",
            "\u001b[K     |████████████████████████████████| 1.5 MB 4.1 MB/s \n",
            "\u001b[?25hRequirement already satisfied: typing-extensions>=3.10.0.2 in /usr/local/lib/python3.7/dist-packages (from Faker) (4.2.0)\n",
            "Requirement already satisfied: python-dateutil>=2.4 in /usr/local/lib/python3.7/dist-packages (from Faker) (2.8.2)\n",
            "Requirement already satisfied: six>=1.5 in /usr/local/lib/python3.7/dist-packages (from python-dateutil>=2.4->Faker) (1.15.0)\n",
            "Installing collected packages: Faker\n",
            "Successfully installed Faker-13.11.1\n"
          ]
        }
      ],
      "source": [
        "!pip install Faker"
      ]
    },
    {
      "cell_type": "code",
      "source": [
        "# From Faker we import Faker module\n",
        "from faker import Faker\n",
        "\n",
        "# Here we call a Faker generator. We access a specific type of data via the object's methods.\n",
        "fake = Faker()"
      ],
      "metadata": {
        "id": "w6VvuvpvXw7H"
      },
      "execution_count": 3,
      "outputs": []
    },
    {
      "cell_type": "markdown",
      "source": [
        "##How to generate Data in Faker ?"
      ],
      "metadata": {
        "id": "lTbbqAAwaJdD"
      }
    },
    {
      "cell_type": "code",
      "source": [
        "#Simply call a data type on a fake object\n",
        "fake.name()"
      ],
      "metadata": {
        "colab": {
          "base_uri": "https://localhost:8080/",
          "height": 35
        },
        "id": "vkZs1YS4aIcR",
        "outputId": "f8528c70-b9a5-4d0a-eb52-349e9d066f86"
      },
      "execution_count": 16,
      "outputs": [
        {
          "output_type": "execute_result",
          "data": {
            "text/plain": [
              "'Maria Martinez'"
            ],
            "application/vnd.google.colaboratory.intrinsic+json": {
              "type": "string"
            }
          },
          "metadata": {},
          "execution_count": 16
        }
      ]
    },
    {
      "cell_type": "code",
      "source": [
        "# Each call to method fake.name() yields a different (random) result\n",
        "for i in range(10):\n",
        "  print(fake.address())"
      ],
      "metadata": {
        "colab": {
          "base_uri": "https://localhost:8080/"
        },
        "id": "xDIvwfQAbyef",
        "outputId": "40915ee4-d5ad-4d24-eaa7-af33c9ae02e2"
      },
      "execution_count": 19,
      "outputs": [
        {
          "output_type": "stream",
          "name": "stdout",
          "text": [
            "39138 Kelley Gateway Suite 236\n",
            "Burnettland, WV 39578\n",
            "715 Zachary Rapid Apt. 024\n",
            "New Toddville, DE 78217\n",
            "78240 Michael Junction\n",
            "Port Andreafurt, IN 73796\n",
            "3123 Keith Harbor Suite 683\n",
            "Jesseborough, LA 45496\n",
            "276 Massey Wells Apt. 137\n",
            "East Lisa, WY 07676\n",
            "6373 Michael Avenue Apt. 157\n",
            "North Sheenaton, NV 34610\n",
            "456 Jason Forges\n",
            "Lake Joseshire, AR 16938\n",
            "673 Johnson Fork\n",
            "Snyderside, OR 12522\n",
            "622 Rowland Motorway Apt. 768\n",
            "New Melissahaven, MI 89322\n",
            "21311 Johnson Center Apt. 949\n",
            "East Michael, MS 92477\n"
          ]
        }
      ]
    },
    {
      "cell_type": "markdown",
      "source": [
        "### Generate unique data in Faker"
      ],
      "metadata": {
        "id": "zrVjRybGdc0Z"
      }
    },
    {
      "cell_type": "code",
      "source": [
        "# Through use of the .unique property on the generator, you can guarantee that any generated values are unique for this specific instance. \n",
        "# You chain the appropiate method's name after that.\n",
        "for i in range(100):\n",
        "  print(fake.unique.address())"
      ],
      "metadata": {
        "colab": {
          "base_uri": "https://localhost:8080/"
        },
        "id": "1MEsnlKPcUVa",
        "outputId": "d9e89b8a-1b7d-46e3-8732-c4e81de633c9"
      },
      "execution_count": 22,
      "outputs": [
        {
          "output_type": "stream",
          "name": "stdout",
          "text": [
            "46177 Randy Ramp Suite 001\n",
            "North Robert, CT 60751\n",
            "41013 Phillips Expressway Suite 161\n",
            "Port Kyleborough, AL 63880\n",
            "520 Mcclure Plaza\n",
            "East Caitlyn, FL 06178\n",
            "8750 Morales Spring\n",
            "Robertsview, NY 25941\n",
            "508 Bowers Roads Suite 148\n",
            "Vickiehaven, OK 67387\n",
            "PSC 1330, Box 8901\n",
            "APO AP 18753\n",
            "06190 Mack Junction\n",
            "West Joestad, SD 72869\n",
            "Unit 9612 Box 0486\n",
            "DPO AP 04429\n",
            "05823 Booker Islands Apt. 640\n",
            "Jonathanview, VT 02448\n",
            "0327 Wyatt Trail Suite 575\n",
            "New Mary, MS 45421\n",
            "4521 Salinas Heights Apt. 449\n",
            "Lake Matthewmouth, OK 19837\n",
            "535 Deborah Harbors Apt. 096\n",
            "Joneston, FL 98559\n",
            "94466 Caroline Plains\n",
            "Port Tanya, OK 46119\n",
            "07432 Vincent Course\n",
            "North Vickiton, NH 04013\n",
            "8721 Lori Bypass Apt. 702\n",
            "East Erika, OH 21753\n",
            "Unit 4023 Box 6103\n",
            "DPO AE 55617\n",
            "USCGC Thomas\n",
            "FPO AE 08381\n",
            "022 Jacob Keys Apt. 990\n",
            "Port Miguelstad, FL 34692\n",
            "39121 Rhodes Knoll\n",
            "Wrightborough, MD 03823\n",
            "26444 Dwayne Neck Suite 985\n",
            "North Ashley, AR 16100\n",
            "4378 Steve Shoal\n",
            "New Kristen, MA 93147\n",
            "9790 Peter Place\n",
            "Kirkfurt, ME 55587\n",
            "USCGC Branch\n",
            "FPO AP 54882\n",
            "9402 Daniel Manors\n",
            "East Karen, DC 54084\n",
            "633 Steven Estates Suite 581\n",
            "Rachelview, AK 67723\n",
            "919 Matthew Meadows\n",
            "Gutierrezbury, AR 46004\n",
            "646 Miller Village Apt. 616\n",
            "Ronaldfurt, CO 34838\n",
            "7879 Palmer Lock Apt. 283\n",
            "Michellebury, NV 65599\n",
            "66705 Eric Motorway\n",
            "Georgemouth, FL 01263\n",
            "8557 Collins Village Suite 739\n",
            "Wrightport, DE 60346\n",
            "32675 Debra Points\n",
            "South Alexanderside, IN 65239\n",
            "2043 Margaret Circles Apt. 902\n",
            "Melissastad, HI 10144\n",
            "7876 Martin Springs Apt. 869\n",
            "Port Charlesshire, ND 76134\n",
            "811 Farmer Parks Apt. 365\n",
            "Port Lawrence, MD 03374\n",
            "756 Corey Cove Suite 760\n",
            "Lake Dylan, RI 03418\n",
            "7941 Cameron Meadow Suite 946\n",
            "East David, RI 85943\n",
            "0676 Joseph Crossroad Apt. 989\n",
            "Lake Jose, HI 84614\n",
            "09175 Nicole Mountain Apt. 448\n",
            "North Travis, CA 73257\n",
            "998 Ashley Overpass\n",
            "Austinport, WA 58462\n",
            "69766 James Avenue Apt. 951\n",
            "Richardland, NY 17120\n",
            "71642 Kevin Mountains\n",
            "New Ryanchester, WI 65608\n",
            "Unit 5608 Box 6289\n",
            "DPO AA 95882\n",
            "Unit 1310 Box 2992\n",
            "DPO AP 92905\n",
            "407 Alyssa Meadows\n",
            "New Kennethmouth, NC 75880\n",
            "2519 Davis Mount Apt. 343\n",
            "Tinaton, SD 89443\n",
            "186 Kristina Brooks Apt. 780\n",
            "Dennisfurt, ND 80788\n",
            "66737 Gina Squares\n",
            "South Sherylville, IL 33791\n",
            "96208 Michael Drives\n",
            "Moralesmouth, VT 39677\n",
            "08718 Cory Camp\n",
            "West Laurashire, UT 17682\n",
            "7740 Roberts Cove\n",
            "Serranoburgh, VT 60646\n",
            "8785 Jeffrey Harbors\n",
            "East Holly, MN 50905\n",
            "PSC 6550, Box 8160\n",
            "APO AA 98291\n",
            "939 Martinez Oval Suite 357\n",
            "Shannonshire, IL 24820\n",
            "Unit 6353 Box 7866\n",
            "DPO AA 46084\n",
            "249 Lopez Dam Suite 980\n",
            "Phyllisfort, CT 54944\n",
            "40766 Karen Hills\n",
            "South Brianchester, HI 28041\n",
            "226 Bennett Vista Apt. 998\n",
            "Loveport, NH 58574\n",
            "8165 William Meadow\n",
            "Port Erikton, PA 11907\n",
            "585 Alan Stravenue Suite 786\n",
            "North Briannaton, OH 25472\n",
            "2794 Petty Drive Apt. 890\n",
            "Port John, WI 59356\n",
            "574 Curtis Alley Suite 054\n",
            "Lisahaven, WV 68182\n",
            "60386 Smith Views Suite 721\n",
            "South Amber, WY 14566\n",
            "13991 Adam Fields Apt. 117\n",
            "East Kevinville, DC 55396\n",
            "PSC 0873, Box 9815\n",
            "APO AP 70757\n",
            "Unit 5042 Box 6372\n",
            "DPO AE 99273\n",
            "739 Bryant Forges Apt. 069\n",
            "Lake Thomas, SD 85015\n",
            "6439 Perez Ports Apt. 491\n",
            "East Gary, MO 52542\n",
            "655 Johnny Center\n",
            "Samuelchester, MN 34184\n",
            "46756 Collins Flats Apt. 041\n",
            "East Jacqueline, SD 92697\n",
            "92402 Emily Track\n",
            "Lake Catherine, IN 75413\n",
            "0253 Steven Road\n",
            "Toddshire, NC 39237\n",
            "2903 Robinson Extensions Apt. 520\n",
            "West Stephen, CT 39958\n",
            "11505 Lowery Bypass\n",
            "South Meganstad, GA 20275\n",
            "191 Susan Valleys Suite 085\n",
            "Alanland, NC 79837\n",
            "559 Kristina Fords\n",
            "East Stephen, AR 88187\n",
            "493 Spencer Fords\n",
            "Sandersstad, IA 84900\n",
            "06037 Scott Estates\n",
            "Danielfort, IN 65127\n",
            "834 Edwards Knolls Suite 451\n",
            "Barkershire, OK 18519\n",
            "20442 Tyler Locks Apt. 102\n",
            "Mayerside, SC 40100\n",
            "38575 Megan Key\n",
            "Cherylton, NV 61008\n",
            "3405 Nguyen Mountain\n",
            "Charlesberg, MN 89258\n",
            "3435 Turner Squares\n",
            "Johnsonchester, NE 73182\n",
            "570 Palmer Knoll Apt. 269\n",
            "Leachland, OK 33438\n",
            "961 Williams Well\n",
            "Barbaraton, VA 98784\n",
            "414 Joanna Place\n",
            "Chelsealand, WV 14946\n",
            "PSC 6826, Box 2410\n",
            "APO AP 56984\n",
            "29421 Richard Heights\n",
            "Sarahchester, TN 78372\n",
            "1462 Nichols Dale Apt. 660\n",
            "Johnsonfort, PA 69407\n",
            "372 Jennifer Fort\n",
            "Jacquelineville, ME 73591\n",
            "3396 Philip Ports\n",
            "Santosville, KY 47208\n",
            "328 Frost Curve\n",
            "West Stephen, ND 90302\n",
            "187 Stephanie Corner Apt. 867\n",
            "Jimmyfort, NM 19999\n",
            "54412 Boyle Island Suite 831\n",
            "Port Jessica, NM 11257\n",
            "0732 Young Glens Apt. 017\n",
            "Rhondaberg, AL 14999\n",
            "9081 Osborn Fall Suite 244\n",
            "Mirandaside, HI 67564\n",
            "39520 Aguirre Way Suite 198\n",
            "Danielleview, WV 35769\n",
            "9981 Jason Street Suite 564\n",
            "East Sarah, NJ 28084\n",
            "75498 Figueroa Track\n",
            "Lake Robyn, NC 24186\n",
            "631 Ramirez Estates\n",
            "Reynoldsborough, MN 79918\n",
            "1845 Aaron Prairie Apt. 558\n",
            "Jeffreyshire, SD 35261\n"
          ]
        }
      ]
    },
    {
      "cell_type": "markdown",
      "source": [
        "### Seeding random data in Faker"
      ],
      "metadata": {
        "id": "iGvC3BAlfVoO"
      }
    },
    {
      "cell_type": "code",
      "source": [
        "Faker.seed(1234)\n",
        "Faker_Generator\n",
        "for i in range(10):\n",
        "  print(Faker_Generator.unique.address())"
      ],
      "metadata": {
        "colab": {
          "base_uri": "https://localhost:8080/"
        },
        "id": "7a05CiN0gT0-",
        "outputId": "85e1c0d3-ab7a-4169-f187-2528f219e071"
      },
      "execution_count": 39,
      "outputs": [
        {
          "output_type": "stream",
          "name": "stdout",
          "text": [
            "Unit 7101 Box 9011\n",
            "DPO AA 31540\n",
            "9797 Christopher Station\n",
            "Port Alexisfort, IA 08963\n",
            "91890 Holloway Circles Suite 754\n",
            "Lake Sarah, NC 87717\n",
            "52762 Charles Parks\n",
            "North Angela, AK 45882\n",
            "470 Hill Valley\n",
            "East Josephport, FL 61384\n",
            "7597 Williams Mountains Apt. 787\n",
            "Joshuaburgh, NE 16159\n",
            "USS Calderon\n",
            "FPO AA 49891\n",
            "351 Betty Grove Apt. 571\n",
            "South Jasonport, AZ 29257\n",
            "547 Brenda Walks\n",
            "Lake Ronaldborough, MO 26007\n",
            "353 Thompson Prairie Apt. 405\n",
            "South Rebecca, NJ 44247\n"
          ]
        }
      ]
    },
    {
      "cell_type": "markdown",
      "source": [
        "### Generate localized data in Faker"
      ],
      "metadata": {
        "id": "1BZio2xrhbAu"
      }
    },
    {
      "cell_type": "code",
      "source": [
        "# Can take a locale as an argument, to return localized data.\n",
        "fake_French = Faker(\"fr_FR\")\n",
        "fake_French.address()"
      ],
      "metadata": {
        "colab": {
          "base_uri": "https://localhost:8080/",
          "height": 35
        },
        "id": "aLmmKmIKhb_b",
        "outputId": "c06090ac-09fd-40d8-e3c3-d8cfc13a110f"
      },
      "execution_count": 29,
      "outputs": [
        {
          "output_type": "execute_result",
          "data": {
            "text/plain": [
              "'8, rue de Perrin\\n35592 MauriceVille'"
            ],
            "application/vnd.google.colaboratory.intrinsic+json": {
              "type": "string"
            }
          },
          "metadata": {},
          "execution_count": 29
        }
      ]
    },
    {
      "cell_type": "markdown",
      "source": [
        "### Using Providers to generate fake data following a pattern"
      ],
      "metadata": {
        "id": "wnj8EHWZlsXF"
      }
    },
    {
      "cell_type": "markdown",
      "source": [
        "A Faker Generator alone can't do much generation. It needs FakerProvider objects to delegate the data generation to them.\n",
        "\n",
        "Whenever you try to access a property on the faker object, the generator looks for a method with the same name in all the providers attached to it."
      ],
      "metadata": {
        "id": "B7-jCKFsooLn"
      }
    },
    {
      "cell_type": "code",
      "source": [
        ""
      ],
      "metadata": {
        "id": "X_lkCbhun6hs"
      },
      "execution_count": null,
      "outputs": []
    }
  ]
}